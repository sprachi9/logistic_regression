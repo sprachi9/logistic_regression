{
  "nbformat": 4,
  "nbformat_minor": 0,
  "metadata": {
    "colab": {
      "name": "naive_bayes.ipynb",
      "provenance": [],
      "authorship_tag": "ABX9TyPLiybd5wnDxTFbiAgwCKHh",
      "include_colab_link": true
    },
    "kernelspec": {
      "name": "python3",
      "display_name": "Python 3"
    }
  },
  "cells": [
    {
      "cell_type": "markdown",
      "metadata": {
        "id": "view-in-github",
        "colab_type": "text"
      },
      "source": [
        "<a href=\"https://colab.research.google.com/github/sprachi9/supervised_learning/blob/master/naive_bayes.ipynb\" target=\"_parent\"><img src=\"https://colab.research.google.com/assets/colab-badge.svg\" alt=\"Open In Colab\"/></a>"
      ]
    },
    {
      "cell_type": "code",
      "metadata": {
        "id": "Z2Ux9c92rqXt",
        "colab_type": "code",
        "colab": {
          "base_uri": "https://localhost:8080/",
          "height": 34
        },
        "outputId": "c6ed5578-d480-423e-ee74-06751ef9225f"
      },
      "source": [
        "# load the iris dataset \n",
        "from sklearn.datasets import load_iris \n",
        "iris = load_iris() \n",
        "\n",
        "# store the feature matrix (X) and response vector (y) \n",
        "X = iris.data \n",
        "y = iris.target \n",
        "\n",
        "# splitting X and y into training and testing sets \n",
        "from sklearn.model_selection import train_test_split \n",
        "X_train, X_test, y_train, y_test = train_test_split(X, y, test_size=0.4, random_state=1) \n",
        "\n",
        "# training the model on training set \n",
        "from sklearn.naive_bayes import GaussianNB \n",
        "gnb = GaussianNB() \n",
        "gnb.fit(X_train, y_train) \n",
        "\n",
        "# making predictions on the testing set \n",
        "y_pred = gnb.predict(X_test) \n",
        "\n",
        "# comparing actual response values (y_test) with predicted response values (y_pred) \n",
        "from sklearn import metrics \n",
        "print(\"Gaussian Naive Bayes model accuracy(in %):\", metrics.accuracy_score(y_test, y_pred)*100)\n"
      ],
      "execution_count": 1,
      "outputs": [
        {
          "output_type": "stream",
          "text": [
            "Gaussian Naive Bayes model accuracy(in %): 95.0\n"
          ],
          "name": "stdout"
        }
      ]
    },
    {
      "cell_type": "code",
      "metadata": {
        "id": "dDZ4FDah4OAR",
        "colab_type": "code",
        "colab": {}
      },
      "source": [
        ""
      ],
      "execution_count": 0,
      "outputs": []
    }
  ]
}